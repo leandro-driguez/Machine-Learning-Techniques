{
  "cells": [
    {
      "cell_type": "markdown",
      "metadata": {
        "id": "view-in-github",
        "colab_type": "text"
      },
      "source": [
        "<a href=\"https://colab.research.google.com/github/hectormelo/Machine-Learning-Techniques/blob/main/Taller_4/Taller_4.ipynb\" target=\"_parent\"><img src=\"https://colab.research.google.com/assets/colab-badge.svg\" alt=\"Open In Colab\"/></a>"
      ]
    },
    {
      "cell_type": "markdown",
      "metadata": {
        "id": "yF3pUagPpBXi"
      },
      "source": [
        "<img src=\"https://raw.githubusercontent.com/hectormelo/Machine-Learning-Techniques/main/Banner.png\" ><br>\n",
        "# Machine Learning Techniques - MISIS4219\n",
        "\n",
        "Primer Semestre - 2024"
      ]
    },
    {
      "cell_type": "markdown",
      "source": [
        "* **Integrante 1:**\n",
        "* **Integrante 2:**"
      ],
      "metadata": {
        "id": "hRBapeK93Ayp"
      }
    },
    {
      "cell_type": "markdown",
      "metadata": {
        "id": "mGTZhaDaKFw9"
      },
      "source": [
        "### Modelo de agrupación\n",
        "\n",
        "El conjunto de datos \"Tech Students' Profile Prediction\" contiene información sobre las habilidades, preferencias profesionales y antecedentes académicos de estudiantes en el campo de la tecnología. En este proyecto, se busca aplicar técnicas de agrupación para identificar grupos de estudiantes con perfiles similares, lo que podría ser útil para la orientación profesional y la personalización de programas educativos.\n",
        "\n",
        "El objetivo de este proyecto es desarrollar un modelo de agrupación que clasifique a los estudiantes en función de sus habilidades, intereses y antecedentes, utilizando los datos proporcionados en el conjunto de datos \"Tech Students' Profile Prediction\". Este modelo deberá ser capaz de identificar patrones y tendencias en los perfiles de los estudiantes, lo que podría ayudar a las instituciones educativas y a los empleadores a adaptar sus estrategias de enseñanza y contratación.\n",
        "\n",
        "Para poder realizar este proyecto, se le piden los siguientes análisis:\n",
        "\n",
        "* Realizar la agrupación con el Algoritmo k-Means. Obtener los centroides e interpretarlos.\n",
        "\n",
        "\n",
        "**Fuente de datos:** [Tech Students' Profile Prediction](https://www.kaggle.com/datasets/scarecrow2020/tech-students-profile-prediction)"
      ]
    }
  ],
  "metadata": {
    "colab": {
      "provenance": [],
      "include_colab_link": true
    },
    "kernelspec": {
      "display_name": "Python 3",
      "name": "python3"
    },
    "language_info": {
      "name": "python"
    }
  },
  "nbformat": 4,
  "nbformat_minor": 0
}