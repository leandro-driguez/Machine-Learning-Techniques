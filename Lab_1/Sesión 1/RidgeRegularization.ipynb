{
 "cells": [
  {
   "attachments": {},
   "cell_type": "markdown",
   "metadata": {},
   "source": [
    "<a href=\"https://colab.research.google.com/github/leandro-driguez/Machine-Learning-Techniques/blob/dev/Lab_1/Sesi%C3%B3n%201/RidgeRegularization.ipynb\" target=\"_parent\">\n",
    "    <img src=\"https://colab.research.google.com/assets/colab-badge.svg\" alt=\"Open In Colab\" />\n",
    "</a>"
   ]
  },
  {
   "cell_type": "code",
   "execution_count": null,
   "metadata": {},
   "outputs": [],
   "source": [
    "import itertools\n",
    "import numpy as np\n",
    "import pandas as pd\n",
    "import matplotlib.pyplot as plt\n",
    "from sklearn.linear_model import Ridge\n",
    "from sklearn.preprocessing import MinMaxScaler\n",
    "from sklearn.model_selection import train_test_split\n",
    "from sklearn.metrics import mean_squared_error, r2_score"
   ]
  },
  {
   "attachments": {},
   "cell_type": "markdown",
   "metadata": {},
   "source": [
    "## Dataset"
   ]
  },
  {
   "cell_type": "code",
   "execution_count": null,
   "metadata": {},
   "outputs": [],
   "source": [
    "url = 'https://raw.githubusercontent.com/leandro-driguez/Machine-Learning-Techniques/main/Lab_1/Sesi%C3%B3n%201/kc_house_data.csv'\n",
    "data = pd.read_csv(url)\n",
    "data.head()"
   ]
  },
  {
   "cell_type": "code",
   "execution_count": null,
   "metadata": {},
   "outputs": [],
   "source": [
    "# remove unnecesary columns and split X & y\n",
    "X = data.drop(['id','date','zipcode','sqft_above','price'],axis=1)\n",
    "y = data['price']"
   ]
  },
  {
   "cell_type": "code",
   "execution_count": null,
   "metadata": {},
   "outputs": [],
   "source": [
    "# normalize data\n",
    "columns = X.columns\n",
    "scaler = MinMaxScaler(feature_range=(0, 1))\n",
    "X = scaler.fit_transform(X)\n",
    "X = pd.DataFrame(X,columns=columns)"
   ]
  },
  {
   "cell_type": "code",
   "execution_count": null,
   "metadata": {},
   "outputs": [],
   "source": [
    "def generate_polynomial_features(df: pd.DataFrame, degree: int):\n",
    "    \"\"\"\n",
    "    Generate a DataFrame with polynomial features of specified degree from the input DataFrame.\n",
    "    \n",
    "    This includes all combinations of features raised to powers that sum up to the degree.\n",
    "\n",
    "    Parameters:\n",
    "    - df (pd.DataFrame): Input DataFrame with the original features.\n",
    "    - degree (int): Degree of the polynomial features to generate.\n",
    "\n",
    "    Returns:\n",
    "    - pd.DataFrame: DataFrame containing the original features along with their polynomial\n",
    "                    and interaction combinations up to the specified degree.\n",
    "    \"\"\"\n",
    "    # Validate inputs\n",
    "    if not isinstance(df, pd.DataFrame):\n",
    "        raise ValueError(\"Input must be a pandas DataFrame.\")\n",
    "    if not isinstance(degree, int) or degree < 1:\n",
    "        raise ValueError(\"Degree must be a positive integer.\")\n",
    "\n",
    "    # List to hold all polynomial features\n",
    "    poly_features = [df.copy()]\n",
    "\n",
    "    # Iterate over degrees to generate polynomial combinations\n",
    "    for d in range(2, degree + 1):\n",
    "        for items in itertools.combinations_with_replacement(df.columns, d):\n",
    "            # Generate the feature name for the combination\n",
    "            feature_name = \"*\".join(items)\n",
    "\n",
    "            # Reduce to calculate the product (i.e., (x1*x2), (x1*x2*x3), ...)\n",
    "            feature = pd.DataFrame(df.loc[:, items].prod(axis=1), columns=[feature_name])\n",
    "            \n",
    "            # Append the new feature\n",
    "            poly_features.append(feature)\n",
    "\n",
    "    # Concatenate all polynomial features\n",
    "    poly_features_df = pd.concat(poly_features, axis=1)\n",
    "\n",
    "    return poly_features_df"
   ]
  },
  {
   "attachments": {},
   "cell_type": "markdown",
   "metadata": {},
   "source": [
    "## Hyperparameter setting"
   ]
  },
  {
   "cell_type": "code",
   "execution_count": null,
   "metadata": {},
   "outputs": [],
   "source": [
    "Models, MAE, MSE, R2_score = [], [], [], []\n",
    "MAX_DEGREE = 5"
   ]
  },
  {
   "cell_type": "code",
   "execution_count": null,
   "metadata": {},
   "outputs": [],
   "source": [
    "for k_degree in range(1, MAX_DEGREE+1):\n",
    "    # Prepare dataset\n",
    "    X_pol = generate_polynomial_features(X, degree=k_degree)\n",
    "\n",
    "    # split the dataset in train and test sets\n",
    "    X_train, X_test = train_test_split(X_pol, test_size=0.2, random_state=33)\n",
    "    y_train, y_test = train_test_split(y, test_size=0.2, random_state=33)\n",
    "\n",
    "    # Training\n",
    "    LinearModel = Ridge(alpha=0.1).fit(X_train, y_train)\n",
    "\n",
    "    # Prediction\n",
    "    y_pred = LinearModel.predict(X_test)\n",
    "\n",
    "    # Validation\n",
    "    MAE += [np.mean(np.absolute(y_pred - y_test))]\n",
    "    MSE += [mean_squared_error(y_pred , y_test)]\n",
    "    R2_score += [r2_score(y_pred , y_test)]"
   ]
  },
  {
   "attachments": {},
   "cell_type": "markdown",
   "metadata": {},
   "source": [
    "## Visualization"
   ]
  },
  {
   "cell_type": "code",
   "execution_count": null,
   "metadata": {},
   "outputs": [],
   "source": [
    "degrees = [dg for dg in range(1, MAX_DEGREE+1)]\n",
    "\n",
    "# Plotting each metric in a separate subplot\n",
    "fig, axs = plt.subplots(nrows=1, ncols=3, figsize=(20, 5))\n",
    "\n",
    "# Mean Absolute Error Plot\n",
    "axs[0].plot(degrees, MAE, 'bo-', label='Mean Absolute Error')\n",
    "axs[0].set(title='MAE vs. Degree', xlabel='Degree', ylabel='Mean Absolute Error')\n",
    "axs[0].legend()\n",
    "\n",
    "# Mean Square Error Plot\n",
    "axs[1].plot(degrees, MSE, 'go-', label='Mean Square Error')\n",
    "axs[1].set(title='MSE vs. Degree', xlabel='Degree', ylabel='Mean Square Error')\n",
    "axs[1].legend()\n",
    "\n",
    "# R2-score Plot\n",
    "axs[2].plot(degrees, R2_score, 'ro-', label='R2-score')\n",
    "axs[2].set(title='R2-score vs. Degree', xlabel='Degree', ylabel='R2-score')\n",
    "axs[2].legend()\n",
    "\n",
    "plt.tight_layout()\n",
    "plt.show()"
   ]
  }
 ],
 "metadata": {
  "kernelspec": {
   "display_name": ".venv",
   "language": "python",
   "name": "python3"
  },
  "language_info": {
   "codemirror_mode": {
    "name": "ipython",
    "version": 3
   },
   "file_extension": ".py",
   "mimetype": "text/x-python",
   "name": "python",
   "nbconvert_exporter": "python",
   "pygments_lexer": "ipython3",
   "version": "3.11.6"
  },
  "orig_nbformat": 4
 },
 "nbformat": 4,
 "nbformat_minor": 2
}
