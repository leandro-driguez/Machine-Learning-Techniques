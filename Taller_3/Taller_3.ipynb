{
  "cells": [
    {
      "cell_type": "markdown",
      "metadata": {
        "id": "view-in-github",
        "colab_type": "text"
      },
      "source": [
        "<a href=\"https://colab.research.google.com/github/hectormelo/Machine-Learning-Techniques/blob/main/Taller_3/Taller_3.ipynb\" target=\"_parent\"><img src=\"https://colab.research.google.com/assets/colab-badge.svg\" alt=\"Open In Colab\"/></a>"
      ]
    },
    {
      "cell_type": "markdown",
      "metadata": {
        "id": "yF3pUagPpBXi"
      },
      "source": [
        "\n",
        "<img src=\"https://raw.githubusercontent.com/hectormelo/Machine-Learning-Techniques/main/Banner.png\" ><br>\n",
        "# Machine Learning Techniques - MISIS4219\n",
        "\n",
        "Primer semestre - 2024"
      ]
    },
    {
      "cell_type": "markdown",
      "metadata": {
        "id": "OY2QiXcochkr"
      },
      "source": [
        "- **Integrante 1:**\n",
        "- **Integrante 2:**"
      ]
    },
    {
      "cell_type": "markdown",
      "metadata": {
        "id": "mGTZhaDaKFw9"
      },
      "source": [
        "Uno de los fenómenos más grandes que se presentan hoy en día son las opiniones de los usuarios sobre diferentes temas a través de Internet. Esta opinión es muy valiosa ya que permite saber en tiempo real y de primera mano los sentimientos que tienen las personas sobre un producto o servicio.\n",
        "\n",
        "Es por ello, que una cadena hotelera en Andalucía ha decidido extraer la información de las opiniones de sus usuarios que han publicado en internet. Con el fin de poder entender cuáles son las ideas principales de los usuarios acerca de sus servicios, qué aspectos resaltan ellos sobre su servicios y, lo más importante, saber en qué pueden mejorar. Además, con este banco de datos esperan poder entrenar un modelo que les permita automáticamente determinar el sentimiento del usuario basado en las nuevas opiniones que puedan dejar.\n",
        "\n",
        "Para poder tomar decisiones en este estudio, se debe presentar:\n",
        "\n",
        "* Un análisis de las palabras más importantes en cada una de las categorías que le den relevancia a la cadena hotelera.\n",
        "\n",
        "* Un proceso de limpieza y transformación de datos idóneo para el entrenamiento de los algoritmos.\n",
        "\n",
        "* Una tabla comparativa, mostrando el rendimiento los dos mejores modelos entrenados con Naïve Bayes y KNN.\n",
        "\n",
        "* A partir de la tabla comparativa, ¿cuál modelo ofrece el mejor rendimiento sobre el conjunto test? ¿Qué interpretación puedes darles a los valores obtenidos sobre las métricas de rendimiento?\n",
        "\n",
        "\n",
        "**Datos**: Big_AHR.csv"
      ]
    },
    {
      "cell_type": "markdown",
      "metadata": {
        "id": "rwzeC0Vy5P_M"
      },
      "source": [
        "## Diccionario de Datos"
      ]
    },
    {
      "cell_type": "markdown",
      "metadata": {
        "id": "ySadEGhm5SYh"
      },
      "source": [
        "Se dan a disposición 13330 reviews de los usuarios los caules están compuestos de la siguiente forma:\n",
        "\n",
        "* **Review’s title**: Título del review dado por el usuario.\n",
        "* **5-scale rating**: Calificación del usuario. Escala de 1 a 5.\n",
        "* **Text**: Review del usuario.\n",
        "* **City_Region**: Región donde pertenece el hotel.\n",
        "* **Hotel’s name**: Nombre del hotel evaluado.\n",
        "* **Binary sentiment label** Clasificación sentimental. Donde 0 es Negativo, 1 es Positivo y 3 es Neutral."
      ]
    },
    {
      "cell_type": "markdown",
      "source": [
        "Este es un modelo base, en este caso se realizó la predicción sobre el rating que podría dar un usuario."
      ],
      "metadata": {
        "id": "WtesKwobYgtq"
      }
    },
    {
      "cell_type": "code",
      "source": [],
      "metadata": {
        "colab": {
          "base_uri": "https://localhost:8080/"
        },
        "id": "yI9DcqPIX3gL",
        "outputId": "734282f8-d069-4dc5-e27e-e3c7a8593d1a"
      },
      "execution_count": null,
      "outputs": [
        {
          "output_type": "stream",
          "name": "stdout",
          "text": [
            "Test Report\n",
            "               precision    recall  f1-score   support\n",
            "\n",
            "           1       0.77      0.81      0.79       326\n",
            "           2       0.86      0.34      0.48       187\n",
            "           3       0.65      0.60      0.62       465\n",
            "           4       0.67      0.59      0.63       871\n",
            "           5       0.83      0.93      0.88      1786\n",
            "\n",
            "    accuracy                           0.77      3635\n",
            "   macro avg       0.75      0.65      0.68      3635\n",
            "weighted avg       0.76      0.77      0.76      3635\n",
            "\n"
          ]
        }
      ]
    }
  ],
  "metadata": {
    "colab": {
      "provenance": [],
      "include_colab_link": true
    },
    "kernelspec": {
      "display_name": "Python 3",
      "name": "python3"
    },
    "language_info": {
      "name": "python"
    }
  },
  "nbformat": 4,
  "nbformat_minor": 0
}